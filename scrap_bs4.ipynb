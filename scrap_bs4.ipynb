{
 "cells": [
  {
   "cell_type": "markdown",
   "metadata": {},
   "source": [
    "## Scrapping aliexpress web"
   ]
  },
  {
   "cell_type": "code",
   "execution_count": 1,
   "metadata": {
    "collapsed": true
   },
   "outputs": [],
   "source": [
    "from bs4 import BeautifulSoup as soup\n",
    "from urllib.request import urlopen as uReq\n",
    "import pandas as pd"
   ]
  },
  {
   "cell_type": "code",
   "execution_count": 5,
   "metadata": {},
   "outputs": [],
   "source": [
    "page='https://es.aliexpress.com/w/wholesale-equipaciones-espa%25C3%25B1a.html?spm=a219c.search0104.0.0.AskEPT&initiative_id=SB_20171012231000&site=esp&g=y&SearchText=equipaciones+espa%C3%B1a&needQuery=n'\n",
    "uClient= uReq(page)\n",
    "page_html= uClient.read()\n",
    "uClient.close()\n",
    "\n",
    "page_soup=soup(page_html,'html.parser')\n",
    "articulos= page_soup.find_all('div',{'class':'info'})   \n",
    "articulo=articulos[0]\n",
    "info=articulo.find('a',{'class':'history-item product '})\n",
    "info=info['title']\n",
    "\n",
    "precio=articulo.find('span',{'class':'value'})\n",
    "precio=precio.text\n",
    "\n",
    "\n",
    "\n",
    "filename='scrap_ali.csv'\n",
    "headers='desscripcion,precio\\n'\n",
    "f=open(filename,'w')\n",
    "f.write(headers)\n",
    "list_price=[]\n",
    "list_description=[]\n",
    "df_scrap=pd.DataFrame()\n",
    "for articulo in articulos:\n",
    "\n",
    "    info=articulo.find('a',{'class':'history-item product '})\n",
    "    info=info['title']\n",
    "    #print(info)\n",
    "\n",
    "    precio=articulo.find('span',{'class':'value'})\n",
    "    precio=precio.text\n",
    "    precio=precio.replace('€ ','')\n",
    "    precio=precio.replace(' ','')\n",
    "    list_price.append(precio)\n",
    "    list_description.append(info)\n",
    "    #print(precio)"
   ]
  },
  {
   "cell_type": "markdown",
   "metadata": {},
   "source": [
    "##  Creating a Dataframe"
   ]
  },
  {
   "cell_type": "code",
   "execution_count": 7,
   "metadata": {},
   "outputs": [
    {
     "name": "stdout",
     "output_type": "stream",
     "text": [
      "         precio                                        description\n",
      "0    9,81-10,63  Clásico de verano España/Reino unido/Italia/Bé...\n",
      "1         14,64  Eyessee Tour de España Jerseys de ciclo de la ...\n",
      "2   18,29-19,70  Eyessee bicicleta de manga larga clothing/tour...\n",
      "3         12,51  Nueva Ciclismo Jerseye españa Rojo Amarillo Ho...\n",
      "4         27,91  Caliente nueva SPAKCT Ciclismo Jersey Largo de...\n",
      "5   11,23-13,48  2016 Nuevos hombres del Verano Respirar aire E...\n",
      "6         12,06  NUEVO 2017 españa Jersey caliente/road RACE Pr...\n",
      "7   11,38-13,78  HIRBGOD Compartir El Camino Amarillo Hombres C...\n",
      "8         12,28  PASEO PUNTO 2017 Caramelo M2M Mountain Bike Ro...\n",
      "9   17,00-20,24  Invierno Mountaion ciclismo desgaste Ropa Cicl...\n",
      "10  17,98-21,73  España jersey de ciclo de invierno y otoño 201...\n",
      "11        11,20  Hombres camiseta manga Corta camiseta España A...\n",
      "12        12,92  Hombres camiseta manga Corta camiseta Cristian...\n",
      "13  11,23-13,48  2016 NUEVA España ciclismo jersey ropa de cicl...\n",
      "14        13,49  2017 españa Mujeres jersey ciclismo ropa cicli...\n",
      "15        12,37  Hombres 2017 jersey de ciclo bici españa cloth...\n",
      "16        26,36  3 colores! españa jersey de ciclo sin mangas r...\n",
      "17  11,57-12,93  Espana españa classic hombres short bike wear ...\n",
      "18  14,75-16,17  2017 jersey de ciclo verano la nacional de esp...\n",
      "19        11,17  Best Selling Niza 2016 Precio Más Bajo de Espa...\n",
      "20        14,64  6 estilo! profesional Espana España jersey de ...\n",
      "21        11,69  2017 La Vuelta españa 4 color camisetas de cic...\n",
      "22  14,47-15,68  2017 España jersey de ciclo/equipo de Carreras...\n",
      "23  11,94-13,26  Nueva ciclismo jersey de manga corta clothing ...\n",
      "24  11,77-13,25  España jersey de ciclo de los hombres de manga...\n",
      "25  18,11-19,17  2017 montaña mtb ciclismo manga larga clothing...\n",
      "26        25,79  Alta calidad venta de la promoción 2015 más nu...\n",
      "27  10,42-13,09  Los hombres de manga corta Ciclismo jersey Sum...\n",
      "28  11,93-13,34  Hombre 2017 españa jersey de ciclo campeón tou...\n",
      "29  18,95-22,40  2017 España Negro Winter thermal fleece ciclis...\n",
      "30        14,64  Hombres que completan un ciclo jersey 2016 pro...\n",
      "31  12,22-12,69  Cbox 2015 Brasil/españa/inglaterra camisa de l...\n",
      "32        14,25  España jersey de ciclo corto jersey ciclismo b...\n",
      "33        14,47  2017 Eyessee ciclismo Sin Mangas Jersey/verano...\n",
      "34  14,47-15,68  2017 Edición Bandera España de manga corta cic...\n",
      "35        14,90  Espana equipo de ciclismo jersey manga corta b...\n",
      "36  13,01-14,46  2017 España Pro Team jersey ciclismo Hombres c...\n",
      "37        11,20  Hombres camiseta manga Corta camiseta Manchest...\n",
      "38        11,76  ALE españa jersey de ciclo Ropa ciclismo trans...\n",
      "39  23,26-24,55  2017 navy camisetas de ciclismo Ropa Maillot C...\n",
      "40        14,56  Rafael Nadal 10 campeonatos consecutivos REY D...\n",
      "41        13,44  2016 Nuevos hombres del Verano Respirar aire E...\n",
      "42        18,82  2016 españa bandera hombres de invierno ciclis...\n",
      "43  11,77-13,25  España jersey de ciclo de los hombres de manga...\n"
     ]
    }
   ],
   "source": [
    "df_scrap['precio']=list_price\n",
    "df_scrap['description']=list_description\n",
    "print(df_scrap)"
   ]
  },
  {
   "cell_type": "code",
   "execution_count": null,
   "metadata": {
    "collapsed": true
   },
   "outputs": [],
   "source": []
  }
 ],
 "metadata": {
  "kernelspec": {
   "display_name": "Python 3",
   "language": "python",
   "name": "python3"
  },
  "language_info": {
   "codemirror_mode": {
    "name": "ipython",
    "version": 3
   },
   "file_extension": ".py",
   "mimetype": "text/x-python",
   "name": "python",
   "nbconvert_exporter": "python",
   "pygments_lexer": "ipython3",
   "version": "3.6.1"
  }
 },
 "nbformat": 4,
 "nbformat_minor": 2
}
